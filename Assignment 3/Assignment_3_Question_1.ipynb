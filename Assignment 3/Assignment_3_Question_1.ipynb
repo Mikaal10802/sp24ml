{
  "nbformat": 4,
  "nbformat_minor": 0,
  "metadata": {
    "colab": {
      "provenance": []
    },
    "kernelspec": {
      "name": "python3",
      "display_name": "Python 3"
    },
    "language_info": {
      "name": "python"
    }
  },
  "cells": [
    {
      "cell_type": "code",
      "execution_count": 10,
      "metadata": {
        "id": "gFbnldRsy4TV",
        "colab": {
          "base_uri": "https://localhost:8080/"
        },
        "outputId": "bb14406c-1f92-4736-f342-cb12f69cb211"
      },
      "outputs": [
        {
          "output_type": "stream",
          "name": "stdout",
          "text": [
            "           x         y  Result\n",
            "0   0.305057  1.852707      -1\n",
            "1   0.350855  0.547624      -1\n",
            "2   2.383367  4.424116      -1\n",
            "3   3.055610  0.159656      -1\n",
            "4   3.089258  3.970069      -1\n",
            "5   3.362482  4.038429      -1\n",
            "6   0.522078  6.644703       1\n",
            "7   4.277754  1.951025      -1\n",
            "8   4.292037  8.452302       1\n",
            "9   4.390061  2.650962      -1\n",
            "10  4.391739  4.388713      -1\n",
            "11  4.617555  4.282322      -1\n",
            "12  5.686953  7.541989       1\n",
            "13  5.736236  7.109202       1\n",
            "14  3.833368  0.640896      -1\n",
            "15  7.074342  7.744356       1\n",
            "16  7.749716  9.969612       1\n",
            "17  8.174119  6.224119       1\n",
            "18  8.357997  8.208005       1\n",
            "19  2.723342  0.568875      -1\n",
            "20  8.767977  9.747111       1\n",
            "21  9.016805  8.238261       1\n",
            "22  9.169709  9.788275       1\n",
            "23  9.672429  8.775718       1\n",
            "24  9.969026  5.876345       1\n"
          ]
        }
      ],
      "source": [
        "# 17 April 2024\n",
        "# CSC354 – Assignmen3 – ML – Support Vector Machines\n",
        "# MUHAMMAD MIKAAL AMJAD\n",
        "# FA21-BSE-143\n",
        "# Task was to implement svm on a data set, and identify the outliers if any and assess data\n",
        "import pandas as pd\n",
        "from sklearn.svm import SVC\n",
        "from sklearn.model_selection import train_test_split\n",
        "from sklearn.metrics import accuracy_score\n",
        "#Reading csv File and giving the headers to each column, first column with x second y and third is the result\n",
        "heads=['x','y','Result']\n",
        "data=pd.read_csv(\"/content/dataset-q-1.csv\",names=heads)\n",
        "print(data)"
      ]
    },
    {
      "cell_type": "markdown",
      "source": [
        "I basically fetched the dataset from the dataset-q1.csv, the data is unlabeled in the csv file so I named the first column to be x second to be y and third to be the result"
      ],
      "metadata": {
        "id": "WuyfL5h90lBx"
      }
    },
    {
      "cell_type": "code",
      "source": [
        "#Seperating the different classes data and taking 1 as positively classified data\n",
        "positive=data[data['Result']==1]\n",
        "negative=data[data['Result']==-1]\n",
        "print(positive)"
      ],
      "metadata": {
        "colab": {
          "base_uri": "https://localhost:8080/"
        },
        "id": "vVLGspc4022M",
        "outputId": "8265a242-c261-44b5-e125-93ba8e71a987"
      },
      "execution_count": 5,
      "outputs": [
        {
          "output_type": "stream",
          "name": "stdout",
          "text": [
            "           x         y  Result\n",
            "6   0.522078  6.644703       1\n",
            "8   4.292037  8.452302       1\n",
            "12  5.686953  7.541989       1\n",
            "13  5.736236  7.109202       1\n",
            "15  7.074342  7.744356       1\n",
            "16  7.749716  9.969612       1\n",
            "17  8.174119  6.224119       1\n",
            "18  8.357997  8.208005       1\n",
            "20  8.767977  9.747111       1\n",
            "21  9.016805  8.238261       1\n",
            "22  9.169709  9.788275       1\n",
            "23  9.672429  8.775718       1\n",
            "24  9.969026  5.876345       1\n"
          ]
        }
      ]
    },
    {
      "cell_type": "markdown",
      "source": [
        "Using this code, I seperated the positive and Negative Classification"
      ],
      "metadata": {
        "id": "2GkBwLJ35xi5"
      }
    },
    {
      "cell_type": "code",
      "source": [
        "import matplotlib.pyplot as plt #for plotting the points as scatter plot\n"
      ],
      "metadata": {
        "id": "yNkuNwrB54di"
      },
      "execution_count": 6,
      "outputs": []
    },
    {
      "cell_type": "markdown",
      "source": [
        "Used to plot the graph"
      ],
      "metadata": {
        "id": "aiDq4XVb6fFT"
      }
    },
    {
      "cell_type": "code",
      "source": [
        "plt.scatter(positive['x'],positive['y'],color=\"Green\", marker='+')\n",
        "plt.scatter(negative['x'], negative['y'],color=\"Red\", marker='x')\n",
        "plt.xlabel(\"X\")\n",
        "plt.ylabel(\"Y\")\n",
        "plt.title(\"Scatter plot of complete data\")\n",
        "plt.show()\n"
      ],
      "metadata": {
        "colab": {
          "base_uri": "https://localhost:8080/",
          "height": 472
        },
        "id": "-7EmuQO_6cQ-",
        "outputId": "00c0d3ed-a440-4130-9bcf-1ce09dce963e"
      },
      "execution_count": 24,
      "outputs": [
        {
          "output_type": "display_data",
          "data": {
            "text/plain": [
              "<Figure size 640x480 with 1 Axes>"
            ],
            "image/png": "[encoded data removed]"
          },
          "metadata": {}
        }
      ]
    },
    {
      "cell_type": "code",
      "source": [
        "X_train, X_test, y_train, y_test = train_test_split(data[['x', 'y']], data['Result'], test_size=0.2, random_state=42)\n",
        "\n",
        "# Create and train the SVM model\n",
        "svm = SVC(kernel='linear')\n",
        "svm.fit(X_train, y_train)\n",
        "\n",
        "# Predict on the test set\n",
        "y_pred = svm.predict(X_test)\n",
        "\n",
        "# Calculate accuracy\n",
        "accuracy = accuracy_score(y_test, y_pred)\n",
        "print(\"Accuracy:\", accuracy)"
      ],
      "metadata": {
        "colab": {
          "base_uri": "https://localhost:8080/"
        },
        "id": "8gdzszoH7o5e",
        "outputId": "18110234-c942-4f9d-90ae-3e21b216b950"
      },
      "execution_count": 25,
      "outputs": [
        {
          "output_type": "stream",
          "name": "stdout",
          "text": [
            "Accuracy: 1.0\n"
          ]
        }
      ]
    },
    {
      "cell_type": "code",
      "source": [
        "# Get the coefficients of the hyperplane\n",
        "coefficients = svm.coef_[0]\n",
        "\n",
        "# Get the intercept of the hyperplane\n",
        "intercept = svm.intercept_[0]\n",
        "\n",
        "# Print the hyperplane equation\n",
        "print(\"Hyperplane equation:\")\n",
        "print(f\"{coefficients[0]} * y + {coefficients[1]} * x + ({intercept}) = 0\")\n"
      ],
      "metadata": {
        "colab": {
          "base_uri": "https://localhost:8080/"
        },
        "id": "Fp6qVP5D8XI8",
        "outputId": "9ff907d2-7520-414f-9a28-c992428869d5"
      },
      "execution_count": 15,
      "outputs": [
        {
          "output_type": "stream",
          "name": "stdout",
          "text": [
            "Hyperplane equation:\n",
            "0.08387115925890365 * y + 1.0299794242898819 * x + (-5.888315098024791) = 0\n"
          ]
        }
      ]
    },
    {
      "cell_type": "code",
      "source": [
        "import numpy as np\n",
        "# Define a function to calculate y-values for a given x\n",
        "def hyperplane(x):\n",
        "    return (-intercept - coefficients[0] * x) / coefficients[1]\n",
        "\n",
        "# Plot the hyperplane\n",
        "x_values = np.linspace(min(X_train['x']), max(X_train['x']), 100)  # Define x range\n",
        "plt.plot(x_values, hyperplane(x_values), color='blue', label='Hyperplane')\n",
        "plt.scatter(positive['x'],positive['y'],color=\"Green\", marker='+')\n",
        "plt.scatter(negative['x'], negative['y'],color=\"Red\", marker='x')\n",
        "\n",
        "# Add labels and title\n",
        "plt.xlabel('x')\n",
        "plt.ylabel('y')\n",
        "plt.title('Scatter Plot with Hyperplane')\n",
        "plt.legend()"
      ],
      "metadata": {
        "colab": {
          "base_uri": "https://localhost:8080/",
          "height": 489
        },
        "id": "S6wMgSumE-uO",
        "outputId": "24988f8e-b372-4a23-b95b-65c5c7d7923e"
      },
      "execution_count": 23,
      "outputs": [
        {
          "output_type": "execute_result",
          "data": {
            "text/plain": [
              "<matplotlib.legend.Legend at 0x7fd1fd621c60>"
            ]
          },
          "metadata": {},
          "execution_count": 23
        },
        {
          "output_type": "display_data",
          "data": {
            "text/plain": [
              "<Figure size 640x480 with 1 Axes>"
            ],
            "image/png": "[encoded data removed]"
          },
          "metadata": {}
        }
      ]
    },
    {
      "cell_type": "code",
      "source": [
        "support_vectors = svm.support_vectors_\n",
        "print(support_vectors)"
      ],
      "metadata": {
        "colab": {
          "base_uri": "https://localhost:8080/"
        },
        "id": "KQifKQO4Gphf",
        "outputId": "0a81cb2b-6968-4225-c9fb-ad6282fbe02e"
      },
      "execution_count": 21,
      "outputs": [
        {
          "output_type": "stream",
          "name": "stdout",
          "text": [
            "[[4.391739 4.388713]\n",
            " [9.969026 5.876345]\n",
            " [0.522078 6.644703]]\n"
          ]
        }
      ]
    }
  ]
}