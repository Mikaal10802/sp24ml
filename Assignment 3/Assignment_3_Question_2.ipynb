{
  "nbformat": 4,
  "nbformat_minor": 0,
  "metadata": {
    "colab": {
      "provenance": []
    },
    "kernelspec": {
      "name": "python3",
      "display_name": "Python 3"
    },
    "language_info": {
      "name": "python"
    }
  },
  "cells": [
    {
      "cell_type": "code",
      "execution_count": 2,
      "metadata": {
        "id": "gFbnldRsy4TV",
        "colab": {
          "base_uri": "https://localhost:8080/"
        },
        "outputId": "0ab9bbfb-3cd4-4670-80db-ad589b98da29"
      },
      "outputs": [
        {
          "output_type": "stream",
          "name": "stdout",
          "text": [
            "           x         y  Result\n",
            "0   0.305057  1.852707      -1\n",
            "1   0.350855  0.547624      -1\n",
            "2   2.383367  4.424116      -1\n",
            "3   3.055610  0.159656      -1\n",
            "4   3.089258  3.970069      -1\n",
            "5   3.362482  4.038429      -1\n",
            "6   0.522078  6.644703       1\n",
            "7   4.277754  1.951025      -1\n",
            "8   4.292037  8.452302       1\n",
            "9   4.390061  2.650962      -1\n",
            "10  4.391739  4.388713      -1\n",
            "11  4.617555  4.282322      -1\n",
            "12  5.686953  7.541989       1\n",
            "13  5.736236  7.109202       1\n",
            "14  3.833368  0.640896      -1\n",
            "15  7.074342  7.744356       1\n",
            "16  7.749716  9.969612       1\n",
            "17  8.174119  6.224119       1\n",
            "18  8.357997  8.208005       1\n",
            "19  2.723342  0.568875      -1\n",
            "20  8.767977  9.747111       1\n",
            "21  9.016805  8.238261       1\n",
            "22  9.169709  9.788275       1\n",
            "23  9.672429  8.775718       1\n",
            "24  9.969026  5.876345       1\n"
          ]
        }
      ],
      "source": [
        "# 17 April 2024\n",
        "# CSC354 – Assignmen3 – ML – Support Vector Machines\n",
        "# MUHAMMAD MIKAAL AMJAD\n",
        "# FA21-BSE-143\n",
        "# Task was to implement svm on a data set, and identify the outliers if any after performing variations in the parameters like C\n",
        "import pandas as pd\n",
        "from sklearn.svm import SVC\n",
        "from sklearn.model_selection import train_test_split\n",
        "from sklearn.metrics import accuracy_score\n",
        "#Reading csv File and giving the headers to each column, first column with x second y and third is the result\n",
        "heads=['x','y','Result']\n",
        "data=pd.read_csv(\"/content/dataset-q-1.csv\",names=heads)\n",
        "print(data)"
      ]
    },
    {
      "cell_type": "markdown",
      "source": [
        "I basically fetched the dataset from the dataset-q1.csv, the data is unlabeled in the csv file so I named the first column to be x second to be y and third to be the result"
      ],
      "metadata": {
        "id": "WuyfL5h90lBx"
      }
    },
    {
      "cell_type": "code",
      "source": [
        "#Seperating the different classes data and taking 1 as positively classified data\n",
        "positive=data[data['Result']==1]\n",
        "negative=data[data['Result']==-1]\n",
        "print(positive)"
      ],
      "metadata": {
        "colab": {
          "base_uri": "https://localhost:8080/"
        },
        "id": "vVLGspc4022M",
        "outputId": "1da5136c-34da-4e3a-e5d6-7c64dc36ca82"
      },
      "execution_count": 3,
      "outputs": [
        {
          "output_type": "stream",
          "name": "stdout",
          "text": [
            "           x         y  Result\n",
            "6   0.522078  6.644703       1\n",
            "8   4.292037  8.452302       1\n",
            "12  5.686953  7.541989       1\n",
            "13  5.736236  7.109202       1\n",
            "15  7.074342  7.744356       1\n",
            "16  7.749716  9.969612       1\n",
            "17  8.174119  6.224119       1\n",
            "18  8.357997  8.208005       1\n",
            "20  8.767977  9.747111       1\n",
            "21  9.016805  8.238261       1\n",
            "22  9.169709  9.788275       1\n",
            "23  9.672429  8.775718       1\n",
            "24  9.969026  5.876345       1\n"
          ]
        }
      ]
    },
    {
      "cell_type": "markdown",
      "source": [
        "Using this code, I seperated the positive and Negative Classification"
      ],
      "metadata": {
        "id": "2GkBwLJ35xi5"
      }
    },
    {
      "cell_type": "code",
      "source": [
        "import matplotlib.pyplot as plt #for plotting the points as scatter plot\n"
      ],
      "metadata": {
        "id": "yNkuNwrB54di"
      },
      "execution_count": 4,
      "outputs": []
    },
    {
      "cell_type": "markdown",
      "source": [
        "Used to plot the graph"
      ],
      "metadata": {
        "id": "aiDq4XVb6fFT"
      }
    },
    {
      "cell_type": "code",
      "source": [
        "plt.scatter(positive['x'],positive['y'],color=\"Green\", marker='+')\n",
        "plt.scatter(negative['x'], negative['y'],color=\"Red\", marker='x')\n",
        "plt.xlabel(\"X\")\n",
        "plt.ylabel(\"Y\")\n",
        "plt.title(\"Scatter plot of complete data\")\n",
        "plt.show()\n"
      ],
      "metadata": {
        "colab": {
          "base_uri": "https://localhost:8080/",
          "height": 472
        },
        "id": "-7EmuQO_6cQ-",
        "outputId": "dcb32e9d-13c1-44b9-9de4-5b5be9f37bf2"
      },
      "execution_count": 5,
      "outputs": [
        {
          "output_type": "display_data",
          "data": {
            "text/plain": [
              "<Figure size 640x480 with 1 Axes>"
            ],
            "image/png": "[encoded data removed]"
          },
          "metadata": {}
        }
      ]
    },
    {
      "cell_type": "code",
      "source": [
        "X_train, X_test, y_train, y_test = train_test_split(data[['x', 'y']], data['Result'], test_size=0.2, random_state=42)\n",
        "\n",
        "# Create and train the SVM model\n",
        "svm = SVC(kernel='linear', C=0.01)\n",
        "svm.fit(X_train, y_train)\n",
        "\n",
        "# Predict on the test set\n",
        "y_pred = svm.predict(X_test)\n",
        "\n",
        "# Calculate accuracy\n",
        "accuracy = accuracy_score(y_test, y_pred)\n",
        "print(\"Accuracy:\", accuracy)"
      ],
      "metadata": {
        "colab": {
          "base_uri": "https://localhost:8080/"
        },
        "id": "8gdzszoH7o5e",
        "outputId": "15391151-9e73-4312-c3f2-164c3534bebe"
      },
      "execution_count": 10,
      "outputs": [
        {
          "output_type": "stream",
          "name": "stdout",
          "text": [
            "Accuracy: 1.0\n"
          ]
        }
      ]
    },
    {
      "cell_type": "code",
      "source": [
        "# Get the coefficients of the hyperplane\n",
        "coefficients = svm.coef_[0]\n",
        "\n",
        "# Get the intercept of the hyperplane\n",
        "intercept = svm.intercept_[0]\n",
        "\n",
        "# Print the hyperplane equation\n",
        "print(\"Hyperplane equation:\")\n",
        "print(f\"{coefficients[0]} * y + {coefficients[1]} * x + ({intercept}) = 0\")\n"
      ],
      "metadata": {
        "colab": {
          "base_uri": "https://localhost:8080/"
        },
        "id": "Fp6qVP5D8XI8",
        "outputId": "7b32220e-8df1-4d9d-c394-ab775dd10e6d"
      },
      "execution_count": 11,
      "outputs": [
        {
          "output_type": "stream",
          "name": "stdout",
          "text": [
            "Hyperplane equation:\n",
            "0.15268093 * y + 0.19717400000000004 * x + (-1.8030809807777404) = 0\n"
          ]
        }
      ]
    },
    {
      "cell_type": "code",
      "source": [
        "import numpy as np\n",
        "# Define a function to calculate y-values for a given x\n",
        "def hyperplane(x):\n",
        "    return (-intercept - coefficients[0] * x) / coefficients[1]\n",
        "\n",
        "# Plot the hyperplane\n",
        "x_values = np.linspace(min(X_train['x']), max(X_train['x']), 100)  # Define x range\n",
        "plt.plot(x_values, hyperplane(x_values), color='blue', label='Hyperplane')\n",
        "plt.scatter(positive['x'],positive['y'],color=\"Green\", marker='+')\n",
        "plt.scatter(negative['x'], negative['y'],color=\"Red\", marker='x')\n",
        "\n",
        "# Add labels and title\n",
        "plt.xlabel('x')\n",
        "plt.ylabel('y')\n",
        "plt.title('Scatter Plot with Hyperplane')\n",
        "plt.legend()"
      ],
      "metadata": {
        "colab": {
          "base_uri": "https://localhost:8080/",
          "height": 489
        },
        "id": "S6wMgSumE-uO",
        "outputId": "1c112195-132a-4788-9857-638742184fda"
      },
      "execution_count": 12,
      "outputs": [
        {
          "output_type": "execute_result",
          "data": {
            "text/plain": [
              "<matplotlib.legend.Legend at 0x7a547a15a260>"
            ]
          },
          "metadata": {},
          "execution_count": 12
        },
        {
          "output_type": "display_data",
          "data": {
            "text/plain": [
              "<Figure size 640x480 with 1 Axes>"
            ],
            "image/png": "[encoded data removed]"
          },
          "metadata": {}
        }
      ]
    },
    {
      "cell_type": "code",
      "source": [
        "support_vectors = svm.support_vectors_\n",
        "print(support_vectors)"
      ],
      "metadata": {
        "colab": {
          "base_uri": "https://localhost:8080/"
        },
        "id": "KQifKQO4Gphf",
        "outputId": "0a81cb2b-6968-4225-c9fb-ad6282fbe02e"
      },
      "execution_count": null,
      "outputs": [
        {
          "output_type": "stream",
          "name": "stdout",
          "text": [
            "[[4.391739 4.388713]\n",
            " [9.969026 5.876345]\n",
            " [0.522078 6.644703]]\n"
          ]
        }
      ]
    },
    {
      "cell_type": "code",
      "source": [
        "X_train, X_test, y_train, y_test = train_test_split(data[['x', 'y']], data['Result'], test_size=0.2, random_state=42)\n",
        "\n",
        "# Create and train the SVM model\n",
        "svm = SVC(kernel='linear', C=100)\n",
        "svm.fit(X_train, y_train)\n",
        "\n",
        "# Predict on the test set\n",
        "y_pred = svm.predict(X_test)\n",
        "\n",
        "# Calculate accuracy\n",
        "accuracy = accuracy_score(y_test, y_pred)\n",
        "print(\"Accuracy:\", accuracy)"
      ],
      "metadata": {
        "colab": {
          "base_uri": "https://localhost:8080/"
        },
        "id": "70MxTEnxOlF7",
        "outputId": "86cb615a-a7ed-47f5-a1c1-8ec1aef21a6f"
      },
      "execution_count": 13,
      "outputs": [
        {
          "output_type": "stream",
          "name": "stdout",
          "text": [
            "Accuracy: 1.0\n"
          ]
        }
      ]
    },
    {
      "cell_type": "code",
      "source": [
        "# Get the coefficients of the hyperplane\n",
        "coefficients = svm.coef_[0]\n",
        "\n",
        "# Get the intercept of the hyperplane\n",
        "intercept = svm.intercept_[0]\n",
        "\n",
        "# Print the hyperplane equation\n",
        "print(\"Hyperplane equation:\")\n",
        "print(f\"{coefficients[0]} * y + {coefficients[1]} * x + ({intercept}) = 0\")\n"
      ],
      "metadata": {
        "colab": {
          "base_uri": "https://localhost:8080/"
        },
        "id": "cAjV384yPBA6",
        "outputId": "587937a9-6fa1-43d4-fe65-a430263c37dc"
      },
      "execution_count": 14,
      "outputs": [
        {
          "output_type": "stream",
          "name": "stdout",
          "text": [
            "Hyperplane equation:\n",
            "0.08387115925890365 * y + 1.0299794242898819 * x + (-5.888315098024791) = 0\n"
          ]
        }
      ]
    },
    {
      "cell_type": "code",
      "source": [
        "import numpy as np\n",
        "# Define a function to calculate y-values for a given x\n",
        "def hyperplane(x):\n",
        "    return (-intercept - coefficients[0] * x) / coefficients[1]\n",
        "\n",
        "# Plot the hyperplane\n",
        "x_values = np.linspace(min(X_train['x']), max(X_train['x']), 100)  # Define x range\n",
        "plt.plot(x_values, hyperplane(x_values), color='blue', label='Hyperplane')\n",
        "plt.scatter(positive['x'],positive['y'],color=\"Green\", marker='+')\n",
        "plt.scatter(negative['x'], negative['y'],color=\"Red\", marker='x')\n",
        "\n",
        "# Add labels and title\n",
        "plt.xlabel('x')\n",
        "plt.ylabel('y')\n",
        "plt.title('Scatter Plot with Hyperplane')\n",
        "plt.legend()"
      ],
      "metadata": {
        "colab": {
          "base_uri": "https://localhost:8080/",
          "height": 489
        },
        "id": "sVlaeJsjPB1A",
        "outputId": "32c5ba16-f17e-42c9-b39a-e23b1751fd5f"
      },
      "execution_count": 15,
      "outputs": [
        {
          "output_type": "execute_result",
          "data": {
            "text/plain": [
              "<matplotlib.legend.Legend at 0x7a547a00b850>"
            ]
          },
          "metadata": {},
          "execution_count": 15
        },
        {
          "output_type": "display_data",
          "data": {
            "text/plain": [
              "<Figure size 640x480 with 1 Axes>"
            ],
            "image/png": "[encoded data removed]"
          },
          "metadata": {}
        }
      ]
    },
    {
      "cell_type": "code",
      "source": [
        "X_train, X_test, y_train, y_test = train_test_split(data[['x', 'y']], data['Result'], test_size=0.2, random_state=42)\n",
        "\n",
        "# Create and train the SVM model\n",
        "svm = SVC(kernel='linear', C=300)\n",
        "svm.fit(X_train, y_train)\n",
        "\n",
        "# Predict on the test set\n",
        "y_pred = svm.predict(X_test)\n",
        "\n",
        "# Calculate accuracy\n",
        "accuracy = accuracy_score(y_test, y_pred)\n",
        "print(\"Accuracy:\", accuracy)"
      ],
      "metadata": {
        "colab": {
          "base_uri": "https://localhost:8080/"
        },
        "id": "bQHX2HY6PZ1Y",
        "outputId": "beae0a49-0027-43a0-9991-2cb4a13cdc3a"
      },
      "execution_count": 16,
      "outputs": [
        {
          "output_type": "stream",
          "name": "stdout",
          "text": [
            "Accuracy: 1.0\n"
          ]
        }
      ]
    },
    {
      "cell_type": "code",
      "source": [
        "# Get the coefficients of the hyperplane\n",
        "coefficients = svm.coef_[0]\n",
        "\n",
        "# Get the intercept of the hyperplane\n",
        "intercept = svm.intercept_[0]\n",
        "\n",
        "# Print the hyperplane equation\n",
        "print(\"Hyperplane equation:\")\n",
        "print(f\"{coefficients[0]} * y + {coefficients[1]} * x + ({intercept}) = 0\")\n"
      ],
      "metadata": {
        "colab": {
          "base_uri": "https://localhost:8080/"
        },
        "id": "PuygHBM_Pbx-",
        "outputId": "d52e58da-dc93-426d-e0f3-700d85edfef9"
      },
      "execution_count": 17,
      "outputs": [
        {
          "output_type": "stream",
          "name": "stdout",
          "text": [
            "Hyperplane equation:\n",
            "0.08387115925890365 * y + 1.0299794242898819 * x + (-5.888315098024791) = 0\n"
          ]
        }
      ]
    },
    {
      "cell_type": "code",
      "source": [
        "import numpy as np\n",
        "# Define a function to calculate y-values for a given x\n",
        "def hyperplane(x):\n",
        "    return (-intercept - coefficients[0] * x) / coefficients[1]\n",
        "\n",
        "# Plot the hyperplane\n",
        "x_values = np.linspace(min(X_train['x']), max(X_train['x']), 100)  # Define x range\n",
        "plt.plot(x_values, hyperplane(x_values), color='blue', label='Hyperplane')\n",
        "plt.scatter(positive['x'],positive['y'],color=\"Green\", marker='+')\n",
        "plt.scatter(negative['x'], negative['y'],color=\"Red\", marker='x')\n",
        "\n",
        "# Add labels and title\n",
        "plt.xlabel('x')\n",
        "plt.ylabel('y')\n",
        "plt.title('Scatter Plot with Hyperplane')\n",
        "plt.legend()"
      ],
      "metadata": {
        "colab": {
          "base_uri": "https://localhost:8080/",
          "height": 489
        },
        "id": "GDIU3AAAPd_R",
        "outputId": "e99c3d40-aea5-4872-e669-396e8226aa16"
      },
      "execution_count": 18,
      "outputs": [
        {
          "output_type": "execute_result",
          "data": {
            "text/plain": [
              "<matplotlib.legend.Legend at 0x7a5479fdfee0>"
            ]
          },
          "metadata": {},
          "execution_count": 18
        },
        {
          "output_type": "display_data",
          "data": {
            "text/plain": [
              "<Figure size 640x480 with 1 Axes>"
            ],
            "image/png": "[encoded data removed]"
          },
          "metadata": {}
        }
      ]
    },
    {
      "cell_type": "code",
      "source": [
        "X_train, X_test, y_train, y_test = train_test_split(data[['x', 'y']], data['Result'], test_size=0.2, random_state=42)\n",
        "\n",
        "# Create and train the SVM model\n",
        "svm = SVC(kernel='linear', C=700)\n",
        "svm.fit(X_train, y_train)\n",
        "\n",
        "# Predict on the test set\n",
        "y_pred = svm.predict(X_test)\n",
        "\n",
        "# Calculate accuracy\n",
        "accuracy = accuracy_score(y_test, y_pred)\n",
        "print(\"Accuracy:\", accuracy)"
      ],
      "metadata": {
        "colab": {
          "base_uri": "https://localhost:8080/"
        },
        "id": "ypEBHSf7PzV7",
        "outputId": "2a0d2573-8a03-476e-eb50-d07e9c553cbd"
      },
      "execution_count": 19,
      "outputs": [
        {
          "output_type": "stream",
          "name": "stdout",
          "text": [
            "Accuracy: 1.0\n"
          ]
        }
      ]
    },
    {
      "cell_type": "code",
      "source": [
        "# Get the coefficients of the hyperplane\n",
        "coefficients = svm.coef_[0]\n",
        "\n",
        "# Get the intercept of the hyperplane\n",
        "intercept = svm.intercept_[0]\n",
        "\n",
        "# Print the hyperplane equation\n",
        "print(\"Hyperplane equation:\")\n",
        "print(f\"{coefficients[0]} * y + {coefficients[1]} * x + ({intercept}) = 0\")\n"
      ],
      "metadata": {
        "colab": {
          "base_uri": "https://localhost:8080/"
        },
        "id": "HYc0C75PP2H9",
        "outputId": "994bbf2f-8f81-48ac-bf49-2c42fc2d4fc2"
      },
      "execution_count": 20,
      "outputs": [
        {
          "output_type": "stream",
          "name": "stdout",
          "text": [
            "Hyperplane equation:\n",
            "0.08387115925890365 * y + 1.0299794242898819 * x + (-5.888315098024791) = 0\n"
          ]
        }
      ]
    },
    {
      "cell_type": "code",
      "source": [
        "import numpy as np\n",
        "# Define a function to calculate y-values for a given x\n",
        "def hyperplane(x):\n",
        "    return (-intercept - coefficients[0] * x) / coefficients[1]\n",
        "\n",
        "# Plot the hyperplane\n",
        "x_values = np.linspace(min(X_train['x']), max(X_train['x']), 100)  # Define x range\n",
        "plt.plot(x_values, hyperplane(x_values), color='blue', label='Hyperplane')\n",
        "plt.scatter(positive['x'],positive['y'],color=\"Green\", marker='+')\n",
        "plt.scatter(negative['x'], negative['y'],color=\"Red\", marker='x')\n",
        "\n",
        "# Add labels and title\n",
        "plt.xlabel('x')\n",
        "plt.ylabel('y')\n",
        "plt.title('Scatter Plot with Hyperplane')\n",
        "plt.legend()"
      ],
      "metadata": {
        "colab": {
          "base_uri": "https://localhost:8080/",
          "height": 489
        },
        "id": "0UU3vppoP4tg",
        "outputId": "15c6d53d-1a8a-4127-8797-5f59fd397c02"
      },
      "execution_count": 21,
      "outputs": [
        {
          "output_type": "execute_result",
          "data": {
            "text/plain": [
              "<matplotlib.legend.Legend at 0x7a5479e7e4a0>"
            ]
          },
          "metadata": {},
          "execution_count": 21
        },
        {
          "output_type": "display_data",
          "data": {
            "text/plain": [
              "<Figure size 640x480 with 1 Axes>"
            ],
            "image/png": "[encoded data removed]"
          },
          "metadata": {}
        }
      ]
    },
    {
      "cell_type": "code",
      "source": [
        "X_train, X_test, y_train, y_test = train_test_split(data[['x', 'y']], data['Result'], test_size=0.2, random_state=42)\n",
        "\n",
        "# Create and train the SVM model\n",
        "svm = SVC(kernel='linear', C=700)\n",
        "svm.fit(X_train, y_train)\n",
        "\n",
        "# Predict on the test set\n",
        "y_pred = svm.predict(X_test)\n",
        "\n",
        "# Calculate accuracy\n",
        "accuracy = accuracy_score(y_test, y_pred)\n",
        "print(\"Accuracy:\", accuracy)"
      ],
      "metadata": {
        "colab": {
          "base_uri": "https://localhost:8080/"
        },
        "id": "TjoiHzEKRDv9",
        "outputId": "7954793a-54db-4b78-e568-d8d4a846b4c4"
      },
      "execution_count": 22,
      "outputs": [
        {
          "output_type": "stream",
          "name": "stdout",
          "text": [
            "Accuracy: 1.0\n"
          ]
        }
      ]
    },
    {
      "cell_type": "code",
      "source": [
        "# Get the coefficients of the hyperplane\n",
        "coefficients = svm.coef_[0]\n",
        "\n",
        "# Get the intercept of the hyperplane\n",
        "intercept = svm.intercept_[0]\n",
        "\n",
        "# Print the hyperplane equation\n",
        "print(\"Hyperplane equation:\")\n",
        "print(f\"{coefficients[0]} * y + {coefficients[1]} * x + ({intercept}) = 0\")\n"
      ],
      "metadata": {
        "colab": {
          "base_uri": "https://localhost:8080/"
        },
        "id": "mzDXBdZARExl",
        "outputId": "511d833d-4e76-4305-9137-fff08d19224d"
      },
      "execution_count": 23,
      "outputs": [
        {
          "output_type": "stream",
          "name": "stdout",
          "text": [
            "Hyperplane equation:\n",
            "0.08387115925890365 * y + 1.0299794242898819 * x + (-5.888315098024791) = 0\n"
          ]
        }
      ]
    },
    {
      "cell_type": "code",
      "source": [
        "import numpy as np\n",
        "# Define a function to calculate y-values for a given x\n",
        "def hyperplane(x):\n",
        "    return (-intercept - coefficients[0] * x) / coefficients[1]\n",
        "\n",
        "# Plot the hyperplane\n",
        "x_values = np.linspace(min(X_train['x']), max(X_train['x']), 100)  # Define x range\n",
        "plt.plot(x_values, hyperplane(x_values), color='blue', label='Hyperplane')\n",
        "plt.scatter(positive['x'],positive['y'],color=\"Green\", marker='+')\n",
        "plt.scatter(negative['x'], negative['y'],color=\"Red\", marker='x')\n",
        "\n",
        "# Add labels and title\n",
        "plt.xlabel('x')\n",
        "plt.ylabel('y')\n",
        "plt.title('Scatter Plot with Hyperplane')\n",
        "plt.legend()"
      ],
      "metadata": {
        "colab": {
          "base_uri": "https://localhost:8080/",
          "height": 489
        },
        "id": "KCPqtyVfRIGF",
        "outputId": "3a3138f7-efde-4796-bb50-9fb9e98427fa"
      },
      "execution_count": 24,
      "outputs": [
        {
          "output_type": "execute_result",
          "data": {
            "text/plain": [
              "<matplotlib.legend.Legend at 0x7a5479d63a60>"
            ]
          },
          "metadata": {},
          "execution_count": 24
        },
        {
          "output_type": "display_data",
          "data": {
            "text/plain": [
              "<Figure size 640x480 with 1 Axes>"
            ],
            "image/png": "[encoded data removed]"
          },
          "metadata": {}
        }
      ]
    }
  ]
}