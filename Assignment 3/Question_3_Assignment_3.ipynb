{
  "nbformat": 4,
  "nbformat_minor": 0,
  "metadata": {
    "colab": {
      "provenance": []
    },
    "kernelspec": {
      "name": "python3",
      "display_name": "Python 3"
    },
    "language_info": {
      "name": "python"
    }
  },
  "cells": [
    {
      "cell_type": "code",
      "execution_count": null,
      "metadata": {
        "id": "Yfdohd2JI_x8"
      },
      "outputs": [],
      "source": [
        "# 17 April 2024\n",
        "# CSC354 – Assignmen3 – ML – Support Vector Machines\n",
        "# MUHAMMAD MIKAAL AMJAD\n",
        "# FA21-BSE-143\n",
        "# Task was to implement svm on a IRIS buitling, and perform svm by using kernels like polynomial and gaussian and then perform some variations in the parameters and perform analysis of the outcome\n",
        "from sklearn.datasets import load_iris\n",
        "from sklearn.model_selection import train_test_split\n",
        "from sklearn.svm import SVC\n",
        "from sklearn.metrics import accuracy_score\n",
        "#Libraries"
      ]
    },
    {
      "cell_type": "code",
      "source": [
        "iris = load_iris()\n",
        "X = iris.data[:, :2]  #selection of first two features\n",
        "y = iris.target\n",
        "X_train, X_test, y_train, y_test = train_test_split(X, y, test_size=0.2, random_state=42) #splitting the data according to instructions\n"
      ],
      "metadata": {
        "id": "TLWQVEh-STgo"
      },
      "execution_count": null,
      "outputs": []
    },
    {
      "cell_type": "code",
      "source": [
        "poly= SVC(kernel='poly', degree=2)\n",
        "poly.fit(X_train, y_train)\n",
        "y_pred_poly = poly.predict(X_test)\n",
        "accuracy_poly = accuracy_score(y_test, y_pred_poly)\n",
        "print (\"The accuracy for polynomial degree 2 is\",accuracy_poly)"
      ],
      "metadata": {
        "colab": {
          "base_uri": "https://localhost:8080/"
        },
        "id": "v5rozhYTTWMy",
        "outputId": "f9df08c9-dc5b-4460-e59f-667daa899a54"
      },
      "execution_count": null,
      "outputs": [
        {
          "output_type": "stream",
          "name": "stdout",
          "text": [
            "The accuracy for polynomial degree 2 is 0.8333333333333334\n"
          ]
        }
      ]
    },
    {
      "cell_type": "markdown",
      "source": [
        "The code basically use the polynomial kernel for SVM and prints the accuracy"
      ],
      "metadata": {
        "id": "jvgOGTL_TXo5"
      }
    },
    {
      "cell_type": "code",
      "source": [
        "gaussian = SVC(kernel='rbf', gamma=1)\n",
        "gaussian.fit(X_train, y_train)\n",
        "y_pred_gaussian = gaussian.predict(X_test)\n",
        "accuracy_gaussian = accuracy_score(y_test, y_pred_gaussian)\n",
        "print(\"Accuracy with Gaussian (rbf) kernel (sigma=1):\", accuracy_gaussian)"
      ],
      "metadata": {
        "colab": {
          "base_uri": "https://localhost:8080/"
        },
        "id": "M6kFOfiBUW25",
        "outputId": "a6db7cd8-2e5a-4886-91a3-013be8cd8520"
      },
      "execution_count": null,
      "outputs": [
        {
          "output_type": "stream",
          "name": "stdout",
          "text": [
            "Accuracy with Gaussian (rbf) kernel (sigma=1): 0.9\n"
          ]
        }
      ]
    },
    {
      "cell_type": "markdown",
      "source": [
        "The code basically use the Gaussian kernel for SVM with Sigma=1 and prints the accuracy"
      ],
      "metadata": {
        "id": "0MTL9P-lU6sy"
      }
    },
    {
      "cell_type": "code",
      "source": [
        "C_values = [0.1, 1, 10]\n",
        "degree_values = [2, 3, 4]\n",
        "\n",
        "# Train and evaluate SVM models with different combinations of C and degree\n",
        "results = {}\n",
        "for C in C_values:\n",
        "    for degree in degree_values:\n",
        "        # Train SVM model with polynomial kernel\n",
        "        poly = SVC(kernel='poly', degree=degree, C=C)\n",
        "        poly.fit(X_train, y_train)\n",
        "\n",
        "        # Predict on the testing set\n",
        "        y_pred_poly = poly.predict(X_test)\n",
        "\n",
        "        # Calculate accuracy score\n",
        "        accuracy_poly = accuracy_score(y_test, y_pred_poly)\n",
        "\n",
        "        # Store the results\n",
        "        results[(C, degree)] = accuracy_poly\n",
        "\n",
        "# Print the results\n",
        "for params, accuracy in results.items():\n",
        "    print(\"C = {}, degree = {}: Accuracy = {:.4f}\".format(params[0], params[1], accuracy))"
      ],
      "metadata": {
        "colab": {
          "base_uri": "https://localhost:8080/"
        },
        "id": "I6-SS1JzVoO4",
        "outputId": "70b9d788-2c29-4e44-9adb-21ac86051e60"
      },
      "execution_count": null,
      "outputs": [
        {
          "output_type": "stream",
          "name": "stdout",
          "text": [
            "C = 0.1, degree = 2: Accuracy = 0.9000\n",
            "C = 0.1, degree = 3: Accuracy = 0.8333\n",
            "C = 0.1, degree = 4: Accuracy = 0.8000\n",
            "C = 1, degree = 2: Accuracy = 0.8333\n",
            "C = 1, degree = 3: Accuracy = 0.8333\n",
            "C = 1, degree = 4: Accuracy = 0.8000\n",
            "C = 10, degree = 2: Accuracy = 0.9000\n",
            "C = 10, degree = 3: Accuracy = 0.8000\n",
            "C = 10, degree = 4: Accuracy = 0.8000\n"
          ]
        }
      ]
    },
    {
      "cell_type": "code",
      "source": [
        "C_values = [0.1, 1, 10]\n",
        "sigma_values = [0.1, 1, 10]\n",
        "\n",
        "# Train and evaluate SVM models with different combinations of C and sigma\n",
        "results = {}\n",
        "for C in C_values:\n",
        "    for sigma in sigma_values:\n",
        "        # Train SVM model with Gaussian kernel\n",
        "        gaussian = SVC(kernel='rbf', C=C, gamma=1/(2*sigma**2))\n",
        "        gaussian.fit(X_train, y_train)\n",
        "\n",
        "        # Predict on the testing set\n",
        "        y_pred_gaussian = gaussian.predict(X_test)\n",
        "\n",
        "        # Calculate accuracy score\n",
        "        accuracy_gaussian = accuracy_score(y_test, y_pred_gaussian)\n",
        "\n",
        "        # Store the results\n",
        "        results[(C, sigma)] = accuracy_gaussian\n",
        "\n",
        "# Print the results\n",
        "for params, accuracy in results.items():\n",
        "    print(\"C = {}, sigma = {}: Accuracy = {:.4f}\".format(params[0], params[1], accuracy))"
      ],
      "metadata": {
        "colab": {
          "base_uri": "https://localhost:8080/"
        },
        "id": "P_QKEJ9KW5N8",
        "outputId": "51793ca5-f11d-42e1-9ffa-7a6409615921"
      },
      "execution_count": null,
      "outputs": [
        {
          "output_type": "stream",
          "name": "stdout",
          "text": [
            "C = 0.1, sigma = 0.1: Accuracy = 0.3000\n",
            "C = 0.1, sigma = 1: Accuracy = 0.8333\n",
            "C = 0.1, sigma = 10: Accuracy = 0.3000\n",
            "C = 1, sigma = 0.1: Accuracy = 0.8333\n",
            "C = 1, sigma = 1: Accuracy = 0.9000\n",
            "C = 1, sigma = 10: Accuracy = 0.3000\n",
            "C = 10, sigma = 0.1: Accuracy = 0.6667\n",
            "C = 10, sigma = 1: Accuracy = 0.9000\n",
            "C = 10, sigma = 10: Accuracy = 0.9000\n"
          ]
        }
      ]
    }
  ]
}